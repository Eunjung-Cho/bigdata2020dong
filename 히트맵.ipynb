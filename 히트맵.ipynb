{
 "cells": [
  {
   "cell_type": "code",
   "execution_count": 1,
   "metadata": {},
   "outputs": [],
   "source": [
    "from numpy import dot\n",
    "from numpy.linalg import norm\n",
    "import numpy as np\n",
    "import pandas as pd\n",
    "from konlpy.tag import Hannanum\n",
    "from sklearn.feature_extraction.text import CountVectorizer\n",
    "hannanum = Hannanum()"
   ]
  },
  {
   "cell_type": "code",
   "execution_count": 71,
   "metadata": {},
   "outputs": [],
   "source": [
    "import matplotlib as mpl\n",
    "import matplotlib.pyplot as plt\n",
    "\n",
    "import seaborn as sns\n",
    "\n",
    "%matplotlib inline\n",
    "\n",
    "mpl.rcParams['axes.unicode_minus'] = False"
   ]
  },
  {
   "cell_type": "code",
   "execution_count": 72,
   "metadata": {},
   "outputs": [],
   "source": [
    "from matplotlib import font_manager, rc\n",
    "f_path = \"C:/Windows/Fonts/malgun.ttf\"\n",
    "font_name = font_manager.FontProperties(fname=f_path).get_name()\n",
    "rc('font',family = font_name)"
   ]
  },
  {
   "cell_type": "markdown",
   "metadata": {},
   "source": [
    "# 유클리디안 거리, 코사인거리 함수 정의"
   ]
  },
  {
   "cell_type": "code",
   "execution_count": 2,
   "metadata": {},
   "outputs": [],
   "source": [
    "def cos_sim(A, B):\n",
    "       return dot(A, B)/(norm(A)*norm(B))\n",
    "def euclidean_distance(x, y):   \n",
    "    return np.sqrt(np.sum((x - y) ** 2))"
   ]
  },
  {
   "cell_type": "markdown",
   "metadata": {},
   "source": [
    "# 데이터 불러오기 \n",
    "* df_stat : 경영학과 데이터\n",
    "* df_ncs : ncs데이터"
   ]
  },
  {
   "cell_type": "code",
   "execution_count": 76,
   "metadata": {},
   "outputs": [
    {
     "data": {
      "text/html": [
       "<div>\n",
       "<style scoped>\n",
       "    .dataframe tbody tr th:only-of-type {\n",
       "        vertical-align: middle;\n",
       "    }\n",
       "\n",
       "    .dataframe tbody tr th {\n",
       "        vertical-align: top;\n",
       "    }\n",
       "\n",
       "    .dataframe thead th {\n",
       "        text-align: right;\n",
       "    }\n",
       "</style>\n",
       "<table border=\"1\" class=\"dataframe\">\n",
       "  <thead>\n",
       "    <tr style=\"text-align: right;\">\n",
       "      <th></th>\n",
       "      <th>학수번호</th>\n",
       "      <th>과목소개</th>\n",
       "    </tr>\n",
       "  </thead>\n",
       "  <tbody>\n",
       "    <tr>\n",
       "      <th>0</th>\n",
       "      <td>데이 K0040</td>\n",
       "      <td>인터넷프로그래밍 네트워크 프로그래밍 필요 기법들 이해 클라이언트 서버 통신 프로그램...</td>\n",
       "    </tr>\n",
       "    <tr>\n",
       "      <th>1</th>\n",
       "      <td>데이 K0047</td>\n",
       "      <td>선형모형입문 선형모형 확장 선형모형 기본이론 실습 병행 학습 나 중회귀모형, 분산분...</td>\n",
       "    </tr>\n",
       "    <tr>\n",
       "      <th>2</th>\n",
       "      <td>데이 K0056</td>\n",
       "      <td>정보시스템 보안 관리 &amp; 정보시스템 보안 중요성 관리 방법 학습 나 정보시스템 보안...</td>\n",
       "    </tr>\n",
       "    <tr>\n",
       "      <th>3</th>\n",
       "      <td>데이 K0045</td>\n",
       "      <td>정보시스템활용 정보시스템 활용 능력 나 정보시스템 활용 능력 향상 사례분석 세미나 ...</td>\n",
       "    </tr>\n",
       "    <tr>\n",
       "      <th>4</th>\n",
       "      <td>데이 K0052</td>\n",
       "      <td>생명과학자료분석 의학 유전자 등 생명과학자료 특성 이 관련 통계분석방법 학습 실제 ...</td>\n",
       "    </tr>\n",
       "    <tr>\n",
       "      <th>...</th>\n",
       "      <td>...</td>\n",
       "      <td>...</td>\n",
       "    </tr>\n",
       "    <tr>\n",
       "      <th>100</th>\n",
       "      <td>보건K0005</td>\n",
       "      <td>의무기록관리학  의무기록관리학 Medical Record Management ...</td>\n",
       "    </tr>\n",
       "    <tr>\n",
       "      <th>101</th>\n",
       "      <td>보건K0010</td>\n",
       "      <td>의학용어  의학용어 Medical Terminology 보건 K 자료  모든 ...</td>\n",
       "    </tr>\n",
       "    <tr>\n",
       "      <th>102</th>\n",
       "      <td>보건K0044</td>\n",
       "      <td>생활습관병과 영양  성인병과 영양 Adult Diseases and Nutri...</td>\n",
       "    </tr>\n",
       "    <tr>\n",
       "      <th>103</th>\n",
       "      <td>보건K0011</td>\n",
       "      <td>보건행정학  보건행정학 Public Health Administration 보...</td>\n",
       "    </tr>\n",
       "    <tr>\n",
       "      <th>104</th>\n",
       "      <td>보건K0006</td>\n",
       "      <td>병리학 및 실습  병리학 및 실습 Pathology and Practice 보...</td>\n",
       "    </tr>\n",
       "  </tbody>\n",
       "</table>\n",
       "<p>105 rows × 2 columns</p>\n",
       "</div>"
      ],
      "text/plain": [
       "         학수번호                                               과목소개\n",
       "0    데이 K0040  인터넷프로그래밍 네트워크 프로그래밍 필요 기법들 이해 클라이언트 서버 통신 프로그램...\n",
       "1    데이 K0047  선형모형입문 선형모형 확장 선형모형 기본이론 실습 병행 학습 나 중회귀모형, 분산분...\n",
       "2    데이 K0056  정보시스템 보안 관리 & 정보시스템 보안 중요성 관리 방법 학습 나 정보시스템 보안...\n",
       "3    데이 K0045  정보시스템활용 정보시스템 활용 능력 나 정보시스템 활용 능력 향상 사례분석 세미나 ...\n",
       "4    데이 K0052  생명과학자료분석 의학 유전자 등 생명과학자료 특성 이 관련 통계분석방법 학습 실제 ...\n",
       "..        ...                                                ...\n",
       "100   보건K0005     의무기록관리학  의무기록관리학 Medical Record Management ...\n",
       "101   보건K0010     의학용어  의학용어 Medical Terminology 보건 K 자료  모든 ...\n",
       "102   보건K0044     생활습관병과 영양  성인병과 영양 Adult Diseases and Nutri...\n",
       "103   보건K0011     보건행정학  보건행정학 Public Health Administration 보...\n",
       "104   보건K0006     병리학 및 실습  병리학 및 실습 Pathology and Practice 보...\n",
       "\n",
       "[105 rows x 2 columns]"
      ]
     },
     "execution_count": 76,
     "metadata": {},
     "output_type": "execute_result"
    }
   ],
   "source": [
    "df_stat = pd.read_csv('manage+stat+health.csv')\n",
    "df_stat"
   ]
  },
  {
   "cell_type": "code",
   "execution_count": 94,
   "metadata": {},
   "outputs": [],
   "source": [
    "df_stat = df_stat[df_stat['학수번호'].isin(['데이 K0014','데이 K0058','데이 K0055'])]"
   ]
  },
  {
   "cell_type": "code",
   "execution_count": 95,
   "metadata": {},
   "outputs": [
    {
     "data": {
      "text/html": [
       "<div>\n",
       "<style scoped>\n",
       "    .dataframe tbody tr th:only-of-type {\n",
       "        vertical-align: middle;\n",
       "    }\n",
       "\n",
       "    .dataframe tbody tr th {\n",
       "        vertical-align: top;\n",
       "    }\n",
       "\n",
       "    .dataframe thead th {\n",
       "        text-align: right;\n",
       "    }\n",
       "</style>\n",
       "<table border=\"1\" class=\"dataframe\">\n",
       "  <thead>\n",
       "    <tr style=\"text-align: right;\">\n",
       "      <th></th>\n",
       "      <th>학수번호</th>\n",
       "      <th>과목소개</th>\n",
       "    </tr>\n",
       "  </thead>\n",
       "  <tbody>\n",
       "    <tr>\n",
       "      <th>0</th>\n",
       "      <td>데이 K0055</td>\n",
       "      <td>네트워크 보안 관리 &amp; 네트워크 침입 실질적 위험성 식 네트워크 보안 유지하기 프로...</td>\n",
       "    </tr>\n",
       "    <tr>\n",
       "      <th>1</th>\n",
       "      <td>데이 K0014</td>\n",
       "      <td>데이터베이스 개론 데이터베이스 개념 모델링 기법 기본 이론 학습 데이터베이스 전반 ...</td>\n",
       "    </tr>\n",
       "    <tr>\n",
       "      <th>2</th>\n",
       "      <td>데이 K0058</td>\n",
       "      <td>데이터베이스 응용 데이터웨어하우스 구축 효과적 의사결정지원 데이터웨어하우스 분석방법...</td>\n",
       "    </tr>\n",
       "  </tbody>\n",
       "</table>\n",
       "</div>"
      ],
      "text/plain": [
       "       학수번호                                               과목소개\n",
       "0  데이 K0055  네트워크 보안 관리 & 네트워크 침입 실질적 위험성 식 네트워크 보안 유지하기 프로...\n",
       "1  데이 K0014  데이터베이스 개론 데이터베이스 개념 모델링 기법 기본 이론 학습 데이터베이스 전반 ...\n",
       "2  데이 K0058  데이터베이스 응용 데이터웨어하우스 구축 효과적 의사결정지원 데이터웨어하우스 분석방법..."
      ]
     },
     "execution_count": 95,
     "metadata": {},
     "output_type": "execute_result"
    }
   ],
   "source": [
    "df_stat.reset_index(inplace=True,drop=True)\n",
    "df_stat.head()"
   ]
  },
  {
   "cell_type": "code",
   "execution_count": 96,
   "metadata": {},
   "outputs": [
    {
     "data": {
      "text/plain": [
       "(3, 2)"
      ]
     },
     "execution_count": 96,
     "metadata": {},
     "output_type": "execute_result"
    }
   ],
   "source": [
    "df_stat.shape"
   ]
  },
  {
   "cell_type": "code",
   "execution_count": 97,
   "metadata": {},
   "outputs": [
    {
     "data": {
      "text/html": [
       "<div>\n",
       "<style scoped>\n",
       "    .dataframe tbody tr th:only-of-type {\n",
       "        vertical-align: middle;\n",
       "    }\n",
       "\n",
       "    .dataframe tbody tr th {\n",
       "        vertical-align: top;\n",
       "    }\n",
       "\n",
       "    .dataframe thead th {\n",
       "        text-align: right;\n",
       "    }\n",
       "</style>\n",
       "<table border=\"1\" class=\"dataframe\">\n",
       "  <thead>\n",
       "    <tr style=\"text-align: right;\">\n",
       "      <th></th>\n",
       "      <th>jobname</th>\n",
       "      <th>capability</th>\n",
       "    </tr>\n",
       "  </thead>\n",
       "  <tbody>\n",
       "    <tr>\n",
       "      <th>0</th>\n",
       "      <td>3D 프린터 개발</td>\n",
       "      <td>시장 조사하기 법규 검토하기 기술방식 비교하기 기술방식 선정하기 원가 분석하기 개발...</td>\n",
       "    </tr>\n",
       "    <tr>\n",
       "      <th>1</th>\n",
       "      <td>3D 프린터용 제품 제작</td>\n",
       "      <td>시장동향 분석하기 수요조사하기 사업성 검토하기 기획ㅈ품 설정하기 디자인 결정하기 출...</td>\n",
       "    </tr>\n",
       "    <tr>\n",
       "      <th>2</th>\n",
       "      <td>CAM</td>\n",
       "      <td>작업계획 수립하기 공정 · 작업내용 계획하기 장비 · 인원 배분하기 도면 결정하기 ...</td>\n",
       "    </tr>\n",
       "  </tbody>\n",
       "</table>\n",
       "</div>"
      ],
      "text/plain": [
       "         jobname                                         capability\n",
       "0      3D 프린터 개발  시장 조사하기 법규 검토하기 기술방식 비교하기 기술방식 선정하기 원가 분석하기 개발...\n",
       "1  3D 프린터용 제품 제작  시장동향 분석하기 수요조사하기 사업성 검토하기 기획ㅈ품 설정하기 디자인 결정하기 출...\n",
       "2            CAM  작업계획 수립하기 공정 · 작업내용 계획하기 장비 · 인원 배분하기 도면 결정하기 ..."
      ]
     },
     "execution_count": 97,
     "metadata": {},
     "output_type": "execute_result"
    }
   ],
   "source": [
    "df_ncs = pd.read_excel('j_ncs.xlsx',encoding='cp949')\n",
    "df_ncs.head(3)"
   ]
  },
  {
   "cell_type": "code",
   "execution_count": 98,
   "metadata": {},
   "outputs": [],
   "source": [
    "df_ncs = df_ncs[df_ncs['jobname'].isin([ '크루즈운영관리', '소방시설설계·감리','DB엔지니어링','정보시스템운영','보안엔지니어링','NW엔지니어링','IT시스템관리'\n",
    "])]"
   ]
  },
  {
   "cell_type": "code",
   "execution_count": 99,
   "metadata": {},
   "outputs": [
    {
     "data": {
      "text/html": [
       "<div>\n",
       "<style scoped>\n",
       "    .dataframe tbody tr th:only-of-type {\n",
       "        vertical-align: middle;\n",
       "    }\n",
       "\n",
       "    .dataframe tbody tr th {\n",
       "        vertical-align: top;\n",
       "    }\n",
       "\n",
       "    .dataframe thead th {\n",
       "        text-align: right;\n",
       "    }\n",
       "</style>\n",
       "<table border=\"1\" class=\"dataframe\">\n",
       "  <thead>\n",
       "    <tr style=\"text-align: right;\">\n",
       "      <th></th>\n",
       "      <th>jobname</th>\n",
       "      <th>capability</th>\n",
       "    </tr>\n",
       "  </thead>\n",
       "  <tbody>\n",
       "    <tr>\n",
       "      <th>0</th>\n",
       "      <td>DB엔지니어링</td>\n",
       "      <td>데이터 요구사항 수집하기 데이터 요구사항 분석하기 데이터 요구사항 정의하기 데이터 ...</td>\n",
       "    </tr>\n",
       "    <tr>\n",
       "      <th>1</th>\n",
       "      <td>IT시스템관리</td>\n",
       "      <td>운영 목표수립 관리하기 운영 개선과제 관리하기 예산 비용 관리하기 인적자원 관리하기...</td>\n",
       "    </tr>\n",
       "    <tr>\n",
       "      <th>2</th>\n",
       "      <td>NW엔지니어링</td>\n",
       "      <td>기술트렌드 분석하기 거시시장환경 분석하기 경쟁환경 분석하기 프로토콜 명세서 분석하기...</td>\n",
       "    </tr>\n",
       "    <tr>\n",
       "      <th>3</th>\n",
       "      <td>보안엔지니어링</td>\n",
       "      <td>보안 환경 분석하기 보안 범위 설정하기 보안 목표 수립하기 자산 식별하기 자산 분석...</td>\n",
       "    </tr>\n",
       "    <tr>\n",
       "      <th>4</th>\n",
       "      <td>소방시설설계·감리</td>\n",
       "      <td>설계공정표 작성하기 투입인력계획서 작성하기 성과물 목록표 작성하기 품질관리계획서 작...</td>\n",
       "    </tr>\n",
       "  </tbody>\n",
       "</table>\n",
       "</div>"
      ],
      "text/plain": [
       "     jobname                                         capability\n",
       "0    DB엔지니어링  데이터 요구사항 수집하기 데이터 요구사항 분석하기 데이터 요구사항 정의하기 데이터 ...\n",
       "1    IT시스템관리  운영 목표수립 관리하기 운영 개선과제 관리하기 예산 비용 관리하기 인적자원 관리하기...\n",
       "2    NW엔지니어링  기술트렌드 분석하기 거시시장환경 분석하기 경쟁환경 분석하기 프로토콜 명세서 분석하기...\n",
       "3    보안엔지니어링  보안 환경 분석하기 보안 범위 설정하기 보안 목표 수립하기 자산 식별하기 자산 분석...\n",
       "4  소방시설설계·감리  설계공정표 작성하기 투입인력계획서 작성하기 성과물 목록표 작성하기 품질관리계획서 작..."
      ]
     },
     "execution_count": 99,
     "metadata": {},
     "output_type": "execute_result"
    }
   ],
   "source": [
    "df_ncs.reset_index(inplace=True,drop=True)\n",
    "df_ncs.head()"
   ]
  },
  {
   "cell_type": "code",
   "execution_count": 100,
   "metadata": {},
   "outputs": [
    {
     "data": {
      "text/plain": [
       "7"
      ]
     },
     "execution_count": 100,
     "metadata": {},
     "output_type": "execute_result"
    }
   ],
   "source": [
    "df_ncs.shape[0]"
   ]
  },
  {
   "cell_type": "markdown",
   "metadata": {},
   "source": [
    "# heatmap을 만들 빈 데이터 프레임 만들기\n",
    "* 37x241\n",
    "* np.randn을 사용해서 난수로 빈데이터프레임을 만들었습니다."
   ]
  },
  {
   "cell_type": "code",
   "execution_count": 101,
   "metadata": {},
   "outputs": [],
   "source": [
    "df = pd.DataFrame( np.random.randn(df_stat.shape[0],df_ncs.shape[0]),index=list(df_stat['학수번호']), columns=list(df_ncs['jobname']))"
   ]
  },
  {
   "cell_type": "code",
   "execution_count": 102,
   "metadata": {},
   "outputs": [
    {
     "data": {
      "text/html": [
       "<div>\n",
       "<style scoped>\n",
       "    .dataframe tbody tr th:only-of-type {\n",
       "        vertical-align: middle;\n",
       "    }\n",
       "\n",
       "    .dataframe tbody tr th {\n",
       "        vertical-align: top;\n",
       "    }\n",
       "\n",
       "    .dataframe thead th {\n",
       "        text-align: right;\n",
       "    }\n",
       "</style>\n",
       "<table border=\"1\" class=\"dataframe\">\n",
       "  <thead>\n",
       "    <tr style=\"text-align: right;\">\n",
       "      <th></th>\n",
       "      <th>DB엔지니어링</th>\n",
       "      <th>IT시스템관리</th>\n",
       "      <th>NW엔지니어링</th>\n",
       "      <th>보안엔지니어링</th>\n",
       "      <th>소방시설설계·감리</th>\n",
       "      <th>정보시스템운영</th>\n",
       "      <th>크루즈운영관리</th>\n",
       "    </tr>\n",
       "  </thead>\n",
       "  <tbody>\n",
       "    <tr>\n",
       "      <th>데이 K0055</th>\n",
       "      <td>1.069761</td>\n",
       "      <td>0.844396</td>\n",
       "      <td>0.464276</td>\n",
       "      <td>-0.887505</td>\n",
       "      <td>1.211622</td>\n",
       "      <td>0.340410</td>\n",
       "      <td>-0.899340</td>\n",
       "    </tr>\n",
       "    <tr>\n",
       "      <th>데이 K0014</th>\n",
       "      <td>0.412390</td>\n",
       "      <td>0.398890</td>\n",
       "      <td>-0.071898</td>\n",
       "      <td>-1.876747</td>\n",
       "      <td>-0.584309</td>\n",
       "      <td>0.578671</td>\n",
       "      <td>-0.693217</td>\n",
       "    </tr>\n",
       "    <tr>\n",
       "      <th>데이 K0058</th>\n",
       "      <td>0.399397</td>\n",
       "      <td>1.293435</td>\n",
       "      <td>0.763394</td>\n",
       "      <td>0.353822</td>\n",
       "      <td>-0.453708</td>\n",
       "      <td>0.620976</td>\n",
       "      <td>-0.222257</td>\n",
       "    </tr>\n",
       "  </tbody>\n",
       "</table>\n",
       "</div>"
      ],
      "text/plain": [
       "           DB엔지니어링   IT시스템관리   NW엔지니어링   보안엔지니어링  소방시설설계·감리   정보시스템운영  \\\n",
       "데이 K0055  1.069761  0.844396  0.464276 -0.887505   1.211622  0.340410   \n",
       "데이 K0014  0.412390  0.398890 -0.071898 -1.876747  -0.584309  0.578671   \n",
       "데이 K0058  0.399397  1.293435  0.763394  0.353822  -0.453708  0.620976   \n",
       "\n",
       "           크루즈운영관리  \n",
       "데이 K0055 -0.899340  \n",
       "데이 K0014 -0.693217  \n",
       "데이 K0058 -0.222257  "
      ]
     },
     "execution_count": 102,
     "metadata": {},
     "output_type": "execute_result"
    }
   ],
   "source": [
    "df.head()"
   ]
  },
  {
   "cell_type": "code",
   "execution_count": 103,
   "metadata": {},
   "outputs": [
    {
     "data": {
      "text/plain": [
       "(3, 7)"
      ]
     },
     "execution_count": 103,
     "metadata": {},
     "output_type": "execute_result"
    }
   ],
   "source": [
    "df.shape"
   ]
  },
  {
   "cell_type": "markdown",
   "metadata": {},
   "source": [
    "# BoW 언어모델 만들기"
   ]
  },
  {
   "cell_type": "code",
   "execution_count": 104,
   "metadata": {},
   "outputs": [],
   "source": [
    "from sklearn.feature_extraction.text import CountVectorizer\n",
    "\n",
    "cv = CountVectorizer()"
   ]
  },
  {
   "cell_type": "markdown",
   "metadata": {},
   "source": [
    "# 직무 241개와 과목 37개의 유사도를 구해 DF로 저장"
   ]
  },
  {
   "cell_type": "code",
   "execution_count": 105,
   "metadata": {},
   "outputs": [
    {
     "data": {
      "text/plain": [
       "'데이터 요구사항 수집하기 데이터 요구사항 분석하기 데이터 요구사항 정의하기 데이터 요구사항 검증하기 주제영역 정의하기 핵심개체 정의하기 핵심관계 정의하기 개념 E-R 다이어그램 작성하기 개념 데이터모델 품질검증하기 개체 상세화하기 관계 상세화하기 논리 E-R 다이어그램 작성하기 데이터베이스 정규화하기 논리 데이터모델 품질검증하기 물리요소 조사 분석하기 데이터베이스 물리속성 설계하기 물리 E-R 다이어그램 작성하기 데이터베이스 반정규화하기 물리데이터 모델 품질검토하기 DBMS(Data Base Management System) 설치하기 데이터베이스 생성하기 데이터베이스 오브젝트 생성하기 데이터 품질정책 수립하기 데이터 품질 진단하기 데이터 품질 개선하기 데이터 품질관리 프로세스 정의하기 데이터 전환계획 수립하기 데이터 전환 설계하기 데이터 전환 프로그램 구현하기 데이터 정제하기 데이터 전환 수행하기 성능 분석하기 성능개선하기 성능개선결과 평가하기 데이터 표준화 정책수립하기 데이터 표준 정의하기 데이터 표준 관리하기 기본 SQL 작성하기 고급 SQL 작성하기 절차형 SQL 작성하기 응용 SQL 작성하기 '"
      ]
     },
     "execution_count": 105,
     "metadata": {},
     "output_type": "execute_result"
    }
   ],
   "source": [
    "df_ncs.iloc[0,1]"
   ]
  },
  {
   "cell_type": "code",
   "execution_count": 118,
   "metadata": {
    "scrolled": true
   },
   "outputs": [
    {
     "name": "stdout",
     "output_type": "stream",
     "text": [
      "0.004432422071779362\n",
      "0.2168883135176733\n",
      "0.410159443668885\n",
      "0.2653724462171376\n",
      "0.017978438802402942\n",
      "0.11835627543284946\n",
      "0.010331399964032522\n",
      "0.195585634354174\n",
      "0.0036046862545529527\n",
      "0.03475754285057939\n",
      "0.10408763704854128\n",
      "0.0019588121854142377\n",
      "0.14144553702849885\n",
      "0.0025326927893910395\n",
      "0.03178654601301551\n",
      "0.008787495503274935\n",
      "0.07262730392025629\n",
      "0.01268722959391102\n",
      "0.002387593823088841\n",
      "0.04862783973148857\n",
      "0.006174192405743998\n"
     ]
    }
   ],
   "source": [
    "for r in range(df_stat.shape[0]):\n",
    "    for k in range(0,df_ncs.shape[0]):\n",
    "        X = np.array(cv.fit_transform([df_stat.iloc[r,1], df_ncs.iloc[k,1]]).todense())\n",
    "        num =cos_sim(X[0], X[1])\n",
    "        df.iloc[r,k] = num\n",
    "        print(num)"
   ]
  },
  {
   "cell_type": "code",
   "execution_count": 119,
   "metadata": {
    "scrolled": true
   },
   "outputs": [
    {
     "data": {
      "text/html": [
       "<div>\n",
       "<style scoped>\n",
       "    .dataframe tbody tr th:only-of-type {\n",
       "        vertical-align: middle;\n",
       "    }\n",
       "\n",
       "    .dataframe tbody tr th {\n",
       "        vertical-align: top;\n",
       "    }\n",
       "\n",
       "    .dataframe thead th {\n",
       "        text-align: right;\n",
       "    }\n",
       "</style>\n",
       "<table border=\"1\" class=\"dataframe\">\n",
       "  <thead>\n",
       "    <tr style=\"text-align: right;\">\n",
       "      <th></th>\n",
       "      <th>DB엔지니어링</th>\n",
       "      <th>IT시스템관리</th>\n",
       "      <th>NW엔지니어링</th>\n",
       "      <th>보안엔지니어링</th>\n",
       "      <th>소방시설설계·감리</th>\n",
       "      <th>정보시스템운영</th>\n",
       "      <th>크루즈운영관리</th>\n",
       "    </tr>\n",
       "  </thead>\n",
       "  <tbody>\n",
       "    <tr>\n",
       "      <th>네트워크 보안 및 관리</th>\n",
       "      <td>0.004432</td>\n",
       "      <td>0.216888</td>\n",
       "      <td>0.410159</td>\n",
       "      <td>0.265372</td>\n",
       "      <td>0.017978</td>\n",
       "      <td>0.118356</td>\n",
       "      <td>0.010331</td>\n",
       "    </tr>\n",
       "    <tr>\n",
       "      <th>데이터베이스 개론</th>\n",
       "      <td>0.195586</td>\n",
       "      <td>0.003605</td>\n",
       "      <td>0.034758</td>\n",
       "      <td>0.104088</td>\n",
       "      <td>0.001959</td>\n",
       "      <td>0.141446</td>\n",
       "      <td>0.002533</td>\n",
       "    </tr>\n",
       "    <tr>\n",
       "      <th>데이터베이스 응용</th>\n",
       "      <td>0.031787</td>\n",
       "      <td>0.008787</td>\n",
       "      <td>0.072627</td>\n",
       "      <td>0.012687</td>\n",
       "      <td>0.002388</td>\n",
       "      <td>0.048628</td>\n",
       "      <td>0.006174</td>\n",
       "    </tr>\n",
       "  </tbody>\n",
       "</table>\n",
       "</div>"
      ],
      "text/plain": [
       "               DB엔지니어링   IT시스템관리   NW엔지니어링   보안엔지니어링  소방시설설계·감리   정보시스템운영  \\\n",
       "네트워크 보안 및 관리  0.004432  0.216888  0.410159  0.265372   0.017978  0.118356   \n",
       "데이터베이스 개론     0.195586  0.003605  0.034758  0.104088   0.001959  0.141446   \n",
       "데이터베이스 응용     0.031787  0.008787  0.072627  0.012687   0.002388  0.048628   \n",
       "\n",
       "               크루즈운영관리  \n",
       "네트워크 보안 및 관리  0.010331  \n",
       "데이터베이스 개론     0.002533  \n",
       "데이터베이스 응용     0.006174  "
      ]
     },
     "execution_count": 119,
     "metadata": {},
     "output_type": "execute_result"
    }
   ],
   "source": [
    "df.index = ['네트워크 보안 및 관리','데이터베이스 개론','데이터베이스 응용']\n",
    "df"
   ]
  },
  {
   "cell_type": "markdown",
   "metadata": {},
   "source": [
    "# hipmap그리기 \n",
    "* 경고문 없애는 코드 넣어야함\n",
    "* 소수점이 달라도 다르게 보이게 바꾸거나 ncs데이터를 유사도가 높게 나오도록 바꾸어야 할 듯"
   ]
  },
  {
   "cell_type": "code",
   "execution_count": 140,
   "metadata": {
    "scrolled": false
   },
   "outputs": [
    {
     "data": {
      "image/png": "[encoded data removed]",
      "text/plain": [
       "<Figure size 720x576 with 2 Axes>"
      ]
     },
     "metadata": {
      "needs_background": "light"
     },
     "output_type": "display_data"
    }
   ],
   "source": [
    "import matplotlib.pyplot as plt\n",
    "\n",
    "import seaborn as sns\n",
    "\n",
    "\n",
    "#sns.heatmap(df, cmap='RdYlGn_r',annot=True)\n",
    "#sns.heatmap(df, cmap='YlGnBu',annot=True)\n",
    "#sns.heatmap(df, cmap='viridis',annot=True)\n",
    "sns.heatmap(df, cmap=matplotlib.cm.Blues,annot=True)\n",
    "plt.rcParams['figure.figsize'] = [10, 8]\n",
    "\n",
    "\n",
    "plt.xticks(np.arange(0.5, len(df.columns), 1), df.columns,rotation=45)\n",
    "\n",
    "plt.yticks(np.arange(0.5, len(df.index), 1), df.index)\n",
    "\n",
    "plt.title('과목-직무 텍스트 유사도', fontsize=20)\n",
    "\n",
    "plt.xlabel('job', fontsize=14)\n",
    "\n",
    "plt.ylabel('course', fontsize=14)\n",
    "\n",
    "#plt.colorbar()\n",
    "\n",
    "\n",
    "\n",
    "plt.show()\n",
    "\n",
    "\n"
   ]
  },
  {
   "cell_type": "code",
   "execution_count": 123,
   "metadata": {},
   "outputs": [
    {
     "data": {
      "image/png": "[encoded data removed]",
      "text/plain": [
       "<Figure size 720x576 with 2 Axes>"
      ]
     },
     "metadata": {
      "needs_background": "light"
     },
     "output_type": "display_data"
    }
   ],
   "source": [
    "import matplotlib.pyplot as plt\n",
    "\n",
    "import seaborn as sns\n",
    "\n",
    "\n",
    "plt.rcParams['figure.figsize'] = [10, 8]\n",
    "\n",
    "plt.pcolor(df)\n",
    "\n",
    "plt.xticks(np.arange(0.5, len(df.columns), 1), df.columns,rotation=45)\n",
    "\n",
    "plt.yticks(np.arange(0.5, len(df.index), 1), df.index)\n",
    "\n",
    "plt.title('과목-직무 텍스트 유사도', fontsize=20)\n",
    "\n",
    "plt.xlabel('job', fontsize=14)\n",
    "\n",
    "plt.ylabel('course', fontsize=14)\n",
    "\n",
    "plt.colorbar()\n",
    "\n",
    "\n",
    "\n",
    "plt.show()\n",
    "\n",
    "\n"
   ]
  },
  {
   "cell_type": "code",
   "execution_count": null,
   "metadata": {},
   "outputs": [],
   "source": []
  }
 ],
 "metadata": {
  "kernelspec": {
   "display_name": "Python 3",
   "language": "python",
   "name": "python3"
  },
  "language_info": {
   "codemirror_mode": {
    "name": "ipython",
    "version": 3
   },
   "file_extension": ".py",
   "mimetype": "text/x-python",
   "name": "python",
   "nbconvert_exporter": "python",
   "pygments_lexer": "ipython3",
   "version": "3.7.6"
  }
 },
 "nbformat": 4,
 "nbformat_minor": 4
}
